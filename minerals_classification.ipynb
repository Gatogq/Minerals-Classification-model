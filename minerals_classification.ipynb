{
  "nbformat": 4,
  "nbformat_minor": 0,
  "metadata": {
    "colab": {
      "name": "Untitled0.ipynb",
      "provenance": [],
      "collapsed_sections": []
    },
    "kernelspec": {
      "name": "python3",
      "display_name": "Python 3"
    },
    "language_info": {
      "name": "python"
    },
    "accelerator": "GPU"
  },
  "cells": [
    {
      "cell_type": "code",
      "execution_count": 2,
      "metadata": {
        "id": "lKOcaVZZ_j1y"
      },
      "outputs": [],
      "source": [
        "from tensorflow import keras \n",
        "from tensorflow.keras import layers\n",
        "import numpy as np\n",
        "import tensorflow as tf\n",
        "import matplotlib.pyplot as plt\n"
      ]
    },
    {
      "cell_type": "markdown",
      "source": [
        "**Descargando base de datos.**\n",
        "\n",
        "\n",
        "---\n",
        "\n"
      ],
      "metadata": {
        "id": "dFGfItKMwEqq"
      }
    },
    {
      "cell_type": "code",
      "source": [
        " ! pip install -q kaggle\n",
        "from google.colab import files\n",
        "files.upload()"
      ],
      "metadata": {
        "colab": {
          "resources": {
            "http://localhost:8080/nbextensions/google.colab/files.js": {
              "data": "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",
              "ok": true,
              "headers": [
                [
                  "content-type",
                  "application/javascript"
                ]
              ],
              "status": 200,
              "status_text": ""
            }
          },
          "base_uri": "https://localhost:8080/",
          "height": 90
        },
        "id": "hGsXeGLcwH3f",
        "outputId": "bc4fd8cd-f124-4aac-b821-ae6ead91afe3"
      },
      "execution_count": 3,
      "outputs": [
        {
          "output_type": "display_data",
          "data": {
            "text/plain": [
              "<IPython.core.display.HTML object>"
            ],
            "text/html": [
              "\n",
              "     <input type=\"file\" id=\"files-27727104-c477-4ab5-bc5f-2d73ead8a41e\" name=\"files[]\" multiple disabled\n",
              "        style=\"border:none\" />\n",
              "     <output id=\"result-27727104-c477-4ab5-bc5f-2d73ead8a41e\">\n",
              "      Upload widget is only available when the cell has been executed in the\n",
              "      current browser session. Please rerun this cell to enable.\n",
              "      </output>\n",
              "      <script src=\"/nbextensions/google.colab/files.js\"></script> "
            ]
          },
          "metadata": {}
        },
        {
          "output_type": "stream",
          "name": "stdout",
          "text": [
            "Saving kaggle.json to kaggle.json\n"
          ]
        },
        {
          "output_type": "execute_result",
          "data": {
            "text/plain": [
              "{'kaggle.json': b'{\"username\":\"gabriel7171\",\"key\":\"7d9e641b55b9db970a2f17ec23af7bb9\"}'}"
            ]
          },
          "metadata": {},
          "execution_count": 3
        }
      ]
    },
    {
      "cell_type": "code",
      "source": [
        "!mkdir ~/.kaggle\n",
        "!cp kaggle.json ~/.kaggle/\n",
        "!chmod 600 ~/.kaggle/kaggle.json"
      ],
      "metadata": {
        "id": "RgAh2i9RwSFy"
      },
      "execution_count": 4,
      "outputs": []
    },
    {
      "cell_type": "code",
      "source": [
        ""
      ],
      "metadata": {
        "id": "5-RsbR8ow58c"
      },
      "execution_count": null,
      "outputs": []
    },
    {
      "cell_type": "code",
      "source": [
        "!kaggle datasets download -d asiedubrempong/minerals-identification-dataset"
      ],
      "metadata": {
        "id": "o0pZxMfAx9c6",
        "colab": {
          "base_uri": "https://localhost:8080/"
        },
        "outputId": "d209b30f-57e2-44da-8a86-c6b099f7a534"
      },
      "execution_count": 5,
      "outputs": [
        {
          "output_type": "stream",
          "name": "stdout",
          "text": [
            "Downloading minerals-identification-dataset.zip to /content\n",
            " 97% 223M/230M [00:02<00:00, 110MB/s]\n",
            "100% 230M/230M [00:02<00:00, 87.0MB/s]\n"
          ]
        }
      ]
    },
    {
      "cell_type": "code",
      "source": [
        "!unzip -qq minerals-identification-dataset.zip"
      ],
      "metadata": {
        "id": "GlqBvIP9zvr8"
      },
      "execution_count": 6,
      "outputs": []
    },
    {
      "cell_type": "code",
      "source": [
        ""
      ],
      "metadata": {
        "id": "gq1rnwoz9HDj"
      },
      "execution_count": null,
      "outputs": []
    },
    {
      "cell_type": "markdown",
      "source": [
        "**Copiando los datos para test, train y validation**\n",
        "\n",
        "\n",
        "---\n",
        "\n"
      ],
      "metadata": {
        "id": "zBcm0dqksa_t"
      }
    },
    {
      "cell_type": "code",
      "source": [
        "import os, shutil, pathlib"
      ],
      "metadata": {
        "id": "xUYlPfSx0c05"
      },
      "execution_count": 7,
      "outputs": []
    },
    {
      "cell_type": "code",
      "source": [
        "p = pathlib.Path('.') / \"minet\"\n",
        "for folder in p.iterdir():\n",
        "  if folder.is_dir():\n",
        "    count = 1\n",
        "    for file in folder.iterdir():\n",
        "      if file.is_file():\n",
        "        new_file = folder.name + str(count) + \".jpg\"\n",
        "        file.rename(p / folder.name / new_file)\n",
        "        count += 1\n",
        "        \n"
      ],
      "metadata": {
        "id": "EDVerwtiKTX6"
      },
      "execution_count": 8,
      "outputs": []
    },
    {
      "cell_type": "code",
      "source": [
        "original_dir= pathlib.Path(\"minet\")\n",
        "new_base_dir= pathlib.Path(\"data_base\")\n",
        "\n",
        "def make_subset(subset_name):\n",
        "  for c in (\"biotite\", \"bornite\", \"malachite\", \"quartz\"):\n",
        "    dir = new_base_dir / subset_name / c\n",
        "    os.makedirs(dir, exist_ok= True)\n",
        "    \n"
      ],
      "metadata": {
        "id": "UBwq6A-6Osxh"
      },
      "execution_count": 9,
      "outputs": []
    },
    {
      "cell_type": "code",
      "source": [
        "make_subset(\"train\")\n",
        "make_subset(\"validation\")\n",
        "make_subset(\"test\")\n"
      ],
      "metadata": {
        "id": "M1IjeMOfL1H7"
      },
      "execution_count": 10,
      "outputs": []
    },
    {
      "cell_type": "code",
      "source": [
        "destination = pathlib.Path(\"data_base/train/biotite\")\n",
        "file_name = [f\"biotite{i}.jpg\" for i in range  (1,40)]\n",
        "try:\n",
        "  for name in file_name:\n",
        "    shutil.copy(f\"minet/biotite/{name}\", destination)\n",
        "except FileNotFoundError:\n",
        "   pass\n",
        "   ##############################################\n",
        "destination = pathlib.Path(\"data_base/train/bornite\")\n",
        "file_name = [f\"bornite{i}.jpg\" for i in range  (1,103)]\n",
        "try:\n",
        "  for name in file_name:\n",
        "    shutil.copy(f\"minet/bornite/{name}\", destination)\n",
        "except FileNotFoundError:\n",
        "   pass\n",
        "   ##############################################\n",
        "destination = pathlib.Path(\"data_base/train/malachite\")\n",
        "file_name = [f\"malachite{i}.jpg\" for i in range  (1,141)]\n",
        "try:\n",
        "  for name in file_name:\n",
        "    shutil.copy(f\"minet/malachite/{name}\", destination)\n",
        "except FileNotFoundError:\n",
        "   pass\n",
        "   ##############################################\n",
        "destination = pathlib.Path(\"data_base/train/quartz\")\n",
        "file_name = [f\"quartz{i}.jpg\" for i in range  (1,85)]\n",
        "try:\n",
        "  for name in file_name:\n",
        "    shutil.copy(f\"minet/quartz/{name}\", destination)\n",
        "except FileNotFoundError:\n",
        "   pass\n",
        "\n",
        "\n",
        "destination = pathlib.Path(\"data_base/test/biotite\")\n",
        "file_name = [f\"biotite{i}.jpg\" for i in range  (40,53)]\n",
        "try:\n",
        "  for name in file_name:\n",
        "    shutil.copy(f\"minet/biotite/{name}\", destination)\n",
        "except FileNotFoundError:\n",
        "   pass\n",
        "   ##############################################\n",
        "destination = pathlib.Path(\"data_base/test/bornite\")\n",
        "file_name = [f\"bornite{i}.jpg\" for i in range  (103,137)]\n",
        "try:\n",
        "  for name in file_name:\n",
        "    shutil.copy(f\"minet/bornite/{name}\", destination)\n",
        "except FileNotFoundError:\n",
        "   pass\n",
        "   ##############################################\n",
        "destination = pathlib.Path(\"data_base/test/malachite\")\n",
        "file_name = [f\"malachite{i}.jpg\" for i in range  (141,188)]\n",
        "try:\n",
        "  for name in file_name:\n",
        "    shutil.copy(f\"minet/malachite/{name}\", destination)\n",
        "except FileNotFoundError:\n",
        "   pass\n",
        "   ##############################################\n",
        "destination = pathlib.Path(\"data_base/test/quartz\")\n",
        "file_name = [f\"quartz{i}.jpg\" for i in range  (85,114)]\n",
        "try:\n",
        "  for name in file_name:\n",
        "    shutil.copy(f\"minet/quartz/{name}\", destination)\n",
        "except FileNotFoundError:\n",
        "   pass   \n",
        "\n",
        "\n",
        "\n",
        "destination = pathlib.Path(\"data_base/validation/biotite\")\n",
        "file_name = [f\"biotite{i}.jpg\" for i in range  (53,68)]\n",
        "try:\n",
        "  for name in file_name:\n",
        "    shutil.copy(f\"minet/biotite/{name}\", destination)\n",
        "except FileNotFoundError:\n",
        "   pass\n",
        "   ##############################################\n",
        "destination = pathlib.Path(\"data_base/validation/bornite\")\n",
        "file_name = [f\"bornite{i}.jpg\" for i in range  (137,173)]\n",
        "try:\n",
        "  for name in file_name:\n",
        "    shutil.copy(f\"minet/bornite/{name}\", destination)\n",
        "except FileNotFoundError:\n",
        "   pass\n",
        "   ##############################################\n",
        "destination = pathlib.Path(\"data_base/validation/malachite\")\n",
        "file_name = [f\"malachite{i}.jpg\" for i in range  (188,236)]\n",
        "try:\n",
        "  for name in file_name:\n",
        "    shutil.copy(f\"minet/malachite/{name}\", destination)\n",
        "except FileNotFoundError:\n",
        "   pass\n",
        "   ##############################################\n",
        "destination = pathlib.Path(\"data_base/validation/quartz\")\n",
        "file_name = [f\"quartz{i}.jpg\" for i in range  (114,143)]\n",
        "try:\n",
        "  for name in file_name:\n",
        "    shutil.copy(f\"minet/quartz/{name}\", destination)\n",
        "except FileNotFoundError:\n",
        "   pass     "
      ],
      "metadata": {
        "id": "CEtv5sbH05V1"
      },
      "execution_count": 11,
      "outputs": []
    },
    {
      "cell_type": "markdown",
      "source": [
        "**Preparando modelo pre-entrenado (VGG16)**\n",
        "\n",
        "---\n",
        "\n"
      ],
      "metadata": {
        "id": "sQknMfhktFuH"
      }
    },
    {
      "cell_type": "code",
      "source": [
        "conv_base = keras.applications.vgg16.VGG16(weights = \"imagenet\", include_top=False, input_shape=(180,180,3), classes=4)"
      ],
      "metadata": {
        "id": "ctIXwu6TKtV_",
        "colab": {
          "base_uri": "https://localhost:8080/"
        },
        "outputId": "d3a53d36-94bc-49a3-9811-0e8568cb9685"
      },
      "execution_count": 12,
      "outputs": [
        {
          "output_type": "stream",
          "name": "stdout",
          "text": [
            "Downloading data from https://storage.googleapis.com/tensorflow/keras-applications/vgg16/vgg16_weights_tf_dim_ordering_tf_kernels_notop.h5\n",
            "58892288/58889256 [==============================] - 1s 0us/step\n",
            "58900480/58889256 [==============================] - 1s 0us/step\n"
          ]
        }
      ]
    },
    {
      "cell_type": "code",
      "source": [
        "conv_base.summary()"
      ],
      "metadata": {
        "colab": {
          "base_uri": "https://localhost:8080/"
        },
        "id": "_B5iQoKZNLlH",
        "outputId": "e612da70-4b45-4752-c7b6-fe1cacb7d2f7"
      },
      "execution_count": 13,
      "outputs": [
        {
          "output_type": "stream",
          "name": "stdout",
          "text": [
            "Model: \"vgg16\"\n",
            "_________________________________________________________________\n",
            " Layer (type)                Output Shape              Param #   \n",
            "=================================================================\n",
            " input_1 (InputLayer)        [(None, 180, 180, 3)]     0         \n",
            "                                                                 \n",
            " block1_conv1 (Conv2D)       (None, 180, 180, 64)      1792      \n",
            "                                                                 \n",
            " block1_conv2 (Conv2D)       (None, 180, 180, 64)      36928     \n",
            "                                                                 \n",
            " block1_pool (MaxPooling2D)  (None, 90, 90, 64)        0         \n",
            "                                                                 \n",
            " block2_conv1 (Conv2D)       (None, 90, 90, 128)       73856     \n",
            "                                                                 \n",
            " block2_conv2 (Conv2D)       (None, 90, 90, 128)       147584    \n",
            "                                                                 \n",
            " block2_pool (MaxPooling2D)  (None, 45, 45, 128)       0         \n",
            "                                                                 \n",
            " block3_conv1 (Conv2D)       (None, 45, 45, 256)       295168    \n",
            "                                                                 \n",
            " block3_conv2 (Conv2D)       (None, 45, 45, 256)       590080    \n",
            "                                                                 \n",
            " block3_conv3 (Conv2D)       (None, 45, 45, 256)       590080    \n",
            "                                                                 \n",
            " block3_pool (MaxPooling2D)  (None, 22, 22, 256)       0         \n",
            "                                                                 \n",
            " block4_conv1 (Conv2D)       (None, 22, 22, 512)       1180160   \n",
            "                                                                 \n",
            " block4_conv2 (Conv2D)       (None, 22, 22, 512)       2359808   \n",
            "                                                                 \n",
            " block4_conv3 (Conv2D)       (None, 22, 22, 512)       2359808   \n",
            "                                                                 \n",
            " block4_pool (MaxPooling2D)  (None, 11, 11, 512)       0         \n",
            "                                                                 \n",
            " block5_conv1 (Conv2D)       (None, 11, 11, 512)       2359808   \n",
            "                                                                 \n",
            " block5_conv2 (Conv2D)       (None, 11, 11, 512)       2359808   \n",
            "                                                                 \n",
            " block5_conv3 (Conv2D)       (None, 11, 11, 512)       2359808   \n",
            "                                                                 \n",
            " block5_pool (MaxPooling2D)  (None, 5, 5, 512)         0         \n",
            "                                                                 \n",
            "=================================================================\n",
            "Total params: 14,714,688\n",
            "Trainable params: 14,714,688\n",
            "Non-trainable params: 0\n",
            "_________________________________________________________________\n"
          ]
        }
      ]
    },
    {
      "cell_type": "markdown",
      "source": [
        "**Preprocesamiento de datos.**\n",
        "\n",
        "\n",
        "---\n",
        "\n"
      ],
      "metadata": {
        "id": "8xogwXQJZFu7"
      }
    },
    {
      "cell_type": "code",
      "source": [
        "from tensorflow.keras.utils import image_dataset_from_directory\n",
        "\n",
        "train_dataset = image_dataset_from_directory(new_base_dir / \"train\", image_size = (180,180), batch_size = 32)\n",
        "validation_dataset = image_dataset_from_directory(new_base_dir / \"validation\", image_size = (180,180), batch_size = 32)\n",
        "test_dataset = image_dataset_from_directory(new_base_dir / \"test\", image_size = (180,180), batch_size = 32)"
      ],
      "metadata": {
        "colab": {
          "base_uri": "https://localhost:8080/"
        },
        "id": "HeBXQ9P9NPNc",
        "outputId": "61c7f31c-82bf-4f4b-e8f4-330a0addaeff"
      },
      "execution_count": 14,
      "outputs": [
        {
          "output_type": "stream",
          "name": "stdout",
          "text": [
            "Found 365 files belonging to 4 classes.\n",
            "Found 128 files belonging to 4 classes.\n",
            "Found 123 files belonging to 4 classes.\n"
          ]
        }
      ]
    },
    {
      "cell_type": "markdown",
      "source": [
        "**Feature Extraction**\n",
        "\n",
        "\n",
        "---\n",
        "\n"
      ],
      "metadata": {
        "id": "8YyNmk0dwVXA"
      }
    },
    {
      "cell_type": "code",
      "source": [
        "def get_features_and_labels(dataset):\n",
        "  all_features= []\n",
        "  all_labels= []\n",
        "  for images, labels in dataset:\n",
        "    preprocessed_images = keras.applications.vgg16.preprocess_input(images)\n",
        "    features = conv_base.predict(preprocessed_images)\n",
        "    all_features.append(features)\n",
        "    all_labels.append(labels)\n",
        "  return np.concatenate(all_features), np.concatenate(all_labels)\n",
        "\n",
        "train_features, train_labels = get_features_and_labels(train_dataset)\n",
        "val_features, val_labels = get_features_and_labels(validation_dataset)\n",
        "test_features, test_labels = get_features_and_labels(test_dataset)  \n"
      ],
      "metadata": {
        "id": "VKTdt3x7dFD4"
      },
      "execution_count": 15,
      "outputs": []
    },
    {
      "cell_type": "code",
      "source": [
        "train_features.shape"
      ],
      "metadata": {
        "colab": {
          "base_uri": "https://localhost:8080/"
        },
        "id": "lyCC6_PqoH3o",
        "outputId": "38ae642a-5437-4f1a-c13d-9def473684a7"
      },
      "execution_count": 16,
      "outputs": [
        {
          "output_type": "execute_result",
          "data": {
            "text/plain": [
              "(365, 5, 5, 512)"
            ]
          },
          "metadata": {},
          "execution_count": 16
        }
      ]
    },
    {
      "cell_type": "markdown",
      "source": [
        "**Entrenamiento del modelo densamente conectado**\n",
        "\n",
        "\n",
        "---\n",
        "\n"
      ],
      "metadata": {
        "id": "Q6lraCYQuthg"
      }
    },
    {
      "cell_type": "code",
      "source": [
        "inputs = keras.Input(shape=(5,5,512))\n",
        "x= layers.Flatten()(inputs)\n",
        "x= layers.Dense(256)(x)\n",
        "x= layers.Dropout(0.5)(x)\n",
        "outputs = layers.Dense(4, activation=\"softmax\")(x)\n",
        "model = keras.Model(inputs, outputs)\n",
        "model.compile(loss = tf.keras.losses.SparseCategoricalCrossentropy(from_logits=True), optimizer=\"adam\", metrics=[\"accuracy\"])\n",
        "callbacks= [keras.callbacks.ModelCheckpoint(filepath=\"feature_extraction.keras\",save_best_only=True, monitor= \"val_loss\")]\n",
        "history= model.fit(train_features, train_labels, epochs=20, validation_data= (val_features, val_labels), callbacks=callbacks)"
      ],
      "metadata": {
        "colab": {
          "base_uri": "https://localhost:8080/"
        },
        "id": "V2L9O0fTojdj",
        "outputId": "a086119c-1b81-44ed-a383-bae4e7a3147e"
      },
      "execution_count": 22,
      "outputs": [
        {
          "output_type": "stream",
          "name": "stdout",
          "text": [
            "Epoch 1/20\n"
          ]
        },
        {
          "output_type": "stream",
          "name": "stderr",
          "text": [
            "/usr/local/lib/python3.7/dist-packages/tensorflow/python/util/dispatch.py:1082: UserWarning: \"`sparse_categorical_crossentropy` received `from_logits=True`, but the `output` argument was produced by a sigmoid or softmax activation and thus does not represent logits. Was this intended?\"\n",
            "  return dispatch_target(*args, **kwargs)\n"
          ]
        },
        {
          "output_type": "stream",
          "name": "stdout",
          "text": [
            "12/12 [==============================] - 2s 65ms/step - loss: 28.0049 - accuracy: 0.7014 - val_loss: 20.5479 - val_accuracy: 0.7500\n",
            "Epoch 2/20\n",
            "12/12 [==============================] - 0s 33ms/step - loss: 10.0895 - accuracy: 0.8877 - val_loss: 25.6292 - val_accuracy: 0.8359\n",
            "Epoch 3/20\n",
            "12/12 [==============================] - 1s 44ms/step - loss: 3.1085 - accuracy: 0.9589 - val_loss: 13.2786 - val_accuracy: 0.8359\n",
            "Epoch 4/20\n",
            "12/12 [==============================] - 1s 50ms/step - loss: 1.3937 - accuracy: 0.9753 - val_loss: 11.7699 - val_accuracy: 0.8984\n",
            "Epoch 5/20\n",
            "12/12 [==============================] - 1s 43ms/step - loss: 0.7575 - accuracy: 0.9836 - val_loss: 11.4386 - val_accuracy: 0.9062\n",
            "Epoch 6/20\n",
            "12/12 [==============================] - 1s 45ms/step - loss: 0.7825 - accuracy: 0.9836 - val_loss: 9.5364 - val_accuracy: 0.8906\n",
            "Epoch 7/20\n",
            "12/12 [==============================] - 0s 32ms/step - loss: 0.2507 - accuracy: 0.9945 - val_loss: 12.2960 - val_accuracy: 0.8984\n",
            "Epoch 8/20\n",
            "12/12 [==============================] - 0s 32ms/step - loss: 0.6245 - accuracy: 0.9918 - val_loss: 10.9227 - val_accuracy: 0.8984\n",
            "Epoch 9/20\n",
            "12/12 [==============================] - 0s 34ms/step - loss: 0.3487 - accuracy: 0.9945 - val_loss: 12.3502 - val_accuracy: 0.8906\n",
            "Epoch 10/20\n",
            "12/12 [==============================] - 0s 33ms/step - loss: 0.1266 - accuracy: 0.9973 - val_loss: 12.3577 - val_accuracy: 0.8984\n",
            "Epoch 11/20\n",
            "12/12 [==============================] - 0s 33ms/step - loss: 0.2289 - accuracy: 0.9973 - val_loss: 12.3278 - val_accuracy: 0.8984\n",
            "Epoch 12/20\n",
            "12/12 [==============================] - 0s 34ms/step - loss: 1.2476 - accuracy: 0.9890 - val_loss: 14.8726 - val_accuracy: 0.8594\n",
            "Epoch 13/20\n",
            "12/12 [==============================] - 0s 34ms/step - loss: 4.9830e-06 - accuracy: 1.0000 - val_loss: 15.8669 - val_accuracy: 0.8672\n",
            "Epoch 14/20\n",
            "12/12 [==============================] - 0s 33ms/step - loss: 0.9974 - accuracy: 0.9918 - val_loss: 15.5394 - val_accuracy: 0.9062\n",
            "Epoch 15/20\n",
            "12/12 [==============================] - 0s 33ms/step - loss: 0.3452 - accuracy: 0.9918 - val_loss: 11.9380 - val_accuracy: 0.8984\n",
            "Epoch 16/20\n",
            "12/12 [==============================] - 1s 44ms/step - loss: 0.0079 - accuracy: 0.9973 - val_loss: 7.8061 - val_accuracy: 0.8984\n",
            "Epoch 17/20\n",
            "12/12 [==============================] - 0s 33ms/step - loss: 5.4388e-05 - accuracy: 1.0000 - val_loss: 8.2114 - val_accuracy: 0.9141\n",
            "Epoch 18/20\n",
            "12/12 [==============================] - 0s 34ms/step - loss: 0.1881 - accuracy: 0.9973 - val_loss: 10.4161 - val_accuracy: 0.9062\n",
            "Epoch 19/20\n",
            "12/12 [==============================] - 0s 33ms/step - loss: 0.0000e+00 - accuracy: 1.0000 - val_loss: 13.2354 - val_accuracy: 0.9062\n",
            "Epoch 20/20\n",
            "12/12 [==============================] - 0s 33ms/step - loss: 0.1536 - accuracy: 0.9973 - val_loss: 11.7104 - val_accuracy: 0.8828\n"
          ]
        }
      ]
    },
    {
      "cell_type": "markdown",
      "source": [
        "**Evaluación del modelo en el conjunto de prueba**\n",
        "\n",
        "\n",
        "---\n",
        "\n"
      ],
      "metadata": {
        "id": "qMeGug9tt0TT"
      }
    },
    {
      "cell_type": "code",
      "source": [
        "test_model = keras.models.load_model(\"feature_extraction.keras\")\n",
        "test_loss, test_acc = test_model.evaluate(test_features, test_labels)\n",
        "print(f\"Test accuracy: {test_acc:.3f}\")"
      ],
      "metadata": {
        "id": "-lsst0D20zX-",
        "colab": {
          "base_uri": "https://localhost:8080/"
        },
        "outputId": "9d3c8df5-9400-4e16-abba-a5a0e577810c"
      },
      "execution_count": 23,
      "outputs": [
        {
          "output_type": "stream",
          "name": "stdout",
          "text": [
            "4/4 [==============================] - 0s 15ms/step - loss: 6.4913 - accuracy: 0.9187\n",
            "Test accuracy: 0.919\n"
          ]
        },
        {
          "output_type": "stream",
          "name": "stderr",
          "text": [
            "/usr/local/lib/python3.7/dist-packages/tensorflow/python/util/dispatch.py:1082: UserWarning: \"`sparse_categorical_crossentropy` received `from_logits=True`, but the `output` argument was produced by a sigmoid or softmax activation and thus does not represent logits. Was this intended?\"\n",
            "  return dispatch_target(*args, **kwargs)\n"
          ]
        }
      ]
    },
    {
      "cell_type": "markdown",
      "source": [
        "**Gráficos de resultados**\n",
        "\n",
        "\n",
        "---\n",
        "\n"
      ],
      "metadata": {
        "id": "NYnLEgXSvD3D"
      }
    },
    {
      "cell_type": "code",
      "source": [
        "import matplotlib.pyplot as plt\n",
        "acc = history.history[\"accuracy\"]\n",
        "val_acc = history.history[\"val_accuracy\"]\n",
        "loss = history.history[\"loss\"]\n",
        "val_loss = history.history[\"val_loss\"]\n",
        "epochs = range(1,len(acc)+1)\n",
        "plt.plot(epochs, acc, \"bo\", label=\"Training accuracy\")\n",
        "plt.plot(epochs, val_acc, \"b\", label= \"Validation accuracy\")\n",
        "plt.title(\"Training and Validation accuracy\")\n",
        "plt.legend()\n",
        "plt.figure()\n",
        "plt.plot(epochs, loss, \"bo\", label= \"Training Loss\")\n",
        "plt.plot(epochs, val_loss, \"b\", label= \"Validation Loss\")\n",
        "plt.title(\"Training and validation Loss\")\n",
        "plt.legend()\n",
        "plt.show()"
      ],
      "metadata": {
        "colab": {
          "base_uri": "https://localhost:8080/",
          "height": 545
        },
        "id": "aHmhA_zdoYa0",
        "outputId": "d4ea4d24-9c90-4d3f-c1c0-1fb40ea2f694"
      },
      "execution_count": 24,
      "outputs": [
        {
          "output_type": "display_data",
          "data": {
            "text/plain": [
              "<Figure size 432x288 with 1 Axes>"
            ],
            "image/png": "[encoded data removed]"
          },
          "metadata": {
            "needs_background": "light"
          }
        },
        {
          "output_type": "display_data",
          "data": {
            "text/plain": [
              "<Figure size 432x288 with 1 Axes>"
            ],
            "image/png": "[encoded data removed]"
          },
          "metadata": {
            "needs_background": "light"
          }
        }
      ]
    },
    {
      "cell_type": "markdown",
      "source": [
        "**Implementación del modelo pre-entrenado con *Data Augmentation***\n",
        "\n",
        "\n",
        "---\n",
        "\n",
        " "
      ],
      "metadata": {
        "id": "QaAo-LabvIiv"
      }
    },
    {
      "cell_type": "code",
      "source": [
        "\n",
        "conv_base = keras.applications.vgg16.VGG16(weights = \"imagenet\", include_top = False)\n",
        "conv_base.trainable= False"
      ],
      "metadata": {
        "id": "0adZGVtYvINe"
      },
      "execution_count": 27,
      "outputs": []
    },
    {
      "cell_type": "code",
      "source": [
        "data_augmentation = keras.Sequential(\n",
        "    [layers.RandomFlip(\"horizontal\"), layers.RandomRotation(0.1), layers.RandomZoom(0.2),\n",
        "     ]\n",
        ")\n",
        "inputs = keras.Input(shape= (180,180,3))\n",
        "x= data_augmentation(inputs)\n",
        "x= keras.applications.vgg16.preprocess_input(x)\n",
        "x= conv_base(x)\n",
        "x = layers.Flatten()(x)\n",
        "x = layers.Dense(256)(x)\n",
        "x = layers.Dropout(0.5)(x)\n",
        "outputs = layers.Dense(4, activation=\"softmax\")(x)\n",
        "model = keras.Model(inputs, outputs)\n",
        "model.compile(loss = tf.keras.losses.SparseCategoricalCrossentropy(from_logits=True), optimizer=\"adam\", metrics=[\"accuracy\"])"
      ],
      "metadata": {
        "id": "nUhWh9RCuJZ6"
      },
      "execution_count": 30,
      "outputs": []
    },
    {
      "cell_type": "code",
      "source": [
        "callbacks= [keras.callbacks.ModelCheckpoint(filepath=\"feature_extraction_with_data_augmentation.keras\",save_best_only=True, monitor= \"val_loss\")]\n",
        "history= model.fit(train_dataset, epochs=50, validation_data= validation_dataset, callbacks=callbacks)"
      ],
      "metadata": {
        "colab": {
          "base_uri": "https://localhost:8080/"
        },
        "id": "40z6lPP5y2jW",
        "outputId": "643e7bcd-4470-49c1-eb40-d383d755bdbc"
      },
      "execution_count": 31,
      "outputs": [
        {
          "output_type": "stream",
          "name": "stdout",
          "text": [
            "Epoch 1/50\n"
          ]
        },
        {
          "output_type": "stream",
          "name": "stderr",
          "text": [
            "/usr/local/lib/python3.7/dist-packages/tensorflow/python/util/dispatch.py:1082: UserWarning: \"`sparse_categorical_crossentropy` received `from_logits=True`, but the `output` argument was produced by a sigmoid or softmax activation and thus does not represent logits. Was this intended?\"\n",
            "  return dispatch_target(*args, **kwargs)\n"
          ]
        },
        {
          "output_type": "stream",
          "name": "stdout",
          "text": [
            "12/12 [==============================] - 185s 15s/step - loss: 15.7780 - accuracy: 0.7096 - val_loss: 12.7555 - val_accuracy: 0.8438\n",
            "Epoch 2/50\n",
            "12/12 [==============================] - 164s 14s/step - loss: 9.5696 - accuracy: 0.8877 - val_loss: 15.9593 - val_accuracy: 0.8750\n",
            "Epoch 3/50\n",
            "12/12 [==============================] - 174s 15s/step - loss: 9.4514 - accuracy: 0.8904 - val_loss: 10.7473 - val_accuracy: 0.9062\n",
            "Epoch 4/50\n",
            "12/12 [==============================] - 170s 14s/step - loss: 3.7066 - accuracy: 0.9288 - val_loss: 11.2530 - val_accuracy: 0.8672\n",
            "Epoch 5/50\n",
            "12/12 [==============================] - 163s 14s/step - loss: 5.2446 - accuracy: 0.9370 - val_loss: 11.0982 - val_accuracy: 0.8750\n",
            "Epoch 6/50\n",
            "12/12 [==============================] - 164s 14s/step - loss: 2.0883 - accuracy: 0.9699 - val_loss: 12.5467 - val_accuracy: 0.9062\n",
            "Epoch 7/50\n",
            "12/12 [==============================] - 185s 16s/step - loss: 1.9631 - accuracy: 0.9781 - val_loss: 15.5945 - val_accuracy: 0.8906\n",
            "Epoch 8/50\n",
            "12/12 [==============================] - 203s 17s/step - loss: 1.8781 - accuracy: 0.9699 - val_loss: 7.6443 - val_accuracy: 0.8906\n",
            "Epoch 9/50\n",
            "12/12 [==============================] - 191s 16s/step - loss: 1.9195 - accuracy: 0.9726 - val_loss: 15.5021 - val_accuracy: 0.9062\n",
            "Epoch 10/50\n",
            "12/12 [==============================] - 176s 15s/step - loss: 2.0123 - accuracy: 0.9616 - val_loss: 18.2153 - val_accuracy: 0.8750\n",
            "Epoch 11/50\n",
            "12/12 [==============================] - 174s 15s/step - loss: 1.7154 - accuracy: 0.9808 - val_loss: 16.9710 - val_accuracy: 0.8984\n",
            "Epoch 12/50\n",
            "12/12 [==============================] - 176s 15s/step - loss: 2.2763 - accuracy: 0.9753 - val_loss: 11.1882 - val_accuracy: 0.9141\n",
            "Epoch 13/50\n",
            "12/12 [==============================] - 213s 18s/step - loss: 1.6606 - accuracy: 0.9753 - val_loss: 24.1686 - val_accuracy: 0.8828\n",
            "Epoch 14/50\n",
            "12/12 [==============================] - 190s 16s/step - loss: 2.9609 - accuracy: 0.9726 - val_loss: 11.0719 - val_accuracy: 0.9141\n",
            "Epoch 15/50\n",
            "12/12 [==============================] - 173s 15s/step - loss: 1.3180 - accuracy: 0.9836 - val_loss: 10.2753 - val_accuracy: 0.9141\n",
            "Epoch 16/50\n",
            "12/12 [==============================] - 175s 15s/step - loss: 1.9558 - accuracy: 0.9726 - val_loss: 14.3488 - val_accuracy: 0.8984\n",
            "Epoch 17/50\n",
            "12/12 [==============================] - 170s 14s/step - loss: 0.8067 - accuracy: 0.9836 - val_loss: 11.7147 - val_accuracy: 0.9141\n",
            "Epoch 18/50\n",
            "12/12 [==============================] - 169s 14s/step - loss: 3.1213 - accuracy: 0.9616 - val_loss: 32.3512 - val_accuracy: 0.8594\n",
            "Epoch 19/50\n",
            "12/12 [==============================] - 165s 14s/step - loss: 3.8678 - accuracy: 0.9616 - val_loss: 22.1048 - val_accuracy: 0.8750\n",
            "Epoch 20/50\n",
            "12/12 [==============================] - 166s 14s/step - loss: 3.5452 - accuracy: 0.9562 - val_loss: 8.5921 - val_accuracy: 0.9219\n",
            "Epoch 21/50\n",
            "12/12 [==============================] - 166s 14s/step - loss: 3.8739 - accuracy: 0.9644 - val_loss: 15.2625 - val_accuracy: 0.9219\n",
            "Epoch 22/50\n",
            "12/12 [==============================] - 166s 14s/step - loss: 3.3209 - accuracy: 0.9781 - val_loss: 21.0763 - val_accuracy: 0.9062\n",
            "Epoch 23/50\n",
            "12/12 [==============================] - 164s 14s/step - loss: 2.8319 - accuracy: 0.9616 - val_loss: 17.4110 - val_accuracy: 0.9141\n",
            "Epoch 24/50\n",
            "12/12 [==============================] - 165s 14s/step - loss: 2.6812 - accuracy: 0.9699 - val_loss: 24.4878 - val_accuracy: 0.9062\n",
            "Epoch 25/50\n",
            "12/12 [==============================] - 164s 14s/step - loss: 0.6071 - accuracy: 0.9890 - val_loss: 18.5000 - val_accuracy: 0.9062\n",
            "Epoch 26/50\n",
            "12/12 [==============================] - 162s 14s/step - loss: 1.3173 - accuracy: 0.9808 - val_loss: 22.6155 - val_accuracy: 0.8984\n",
            "Epoch 27/50\n",
            "12/12 [==============================] - 162s 14s/step - loss: 2.2777 - accuracy: 0.9753 - val_loss: 32.7508 - val_accuracy: 0.8906\n",
            "Epoch 28/50\n",
            "12/12 [==============================] - 163s 14s/step - loss: 1.6467 - accuracy: 0.9836 - val_loss: 18.2289 - val_accuracy: 0.9141\n",
            "Epoch 29/50\n",
            "12/12 [==============================] - 163s 14s/step - loss: 1.6532 - accuracy: 0.9836 - val_loss: 21.0273 - val_accuracy: 0.8984\n",
            "Epoch 30/50\n",
            "12/12 [==============================] - 163s 14s/step - loss: 0.3878 - accuracy: 0.9945 - val_loss: 25.5254 - val_accuracy: 0.9062\n",
            "Epoch 31/50\n",
            "12/12 [==============================] - 164s 14s/step - loss: 1.1854 - accuracy: 0.9918 - val_loss: 23.8442 - val_accuracy: 0.8828\n",
            "Epoch 32/50\n",
            "12/12 [==============================] - 163s 14s/step - loss: 0.3150 - accuracy: 0.9918 - val_loss: 28.0858 - val_accuracy: 0.8906\n",
            "Epoch 33/50\n",
            "12/12 [==============================] - 164s 14s/step - loss: 0.8537 - accuracy: 0.9918 - val_loss: 23.6372 - val_accuracy: 0.9062\n",
            "Epoch 34/50\n",
            "12/12 [==============================] - 166s 14s/step - loss: 0.0000e+00 - accuracy: 1.0000 - val_loss: 17.8195 - val_accuracy: 0.8906\n",
            "Epoch 35/50\n",
            "12/12 [==============================] - 166s 14s/step - loss: 0.7268 - accuracy: 0.9890 - val_loss: 25.6041 - val_accuracy: 0.9141\n",
            "Epoch 36/50\n",
            "12/12 [==============================] - 182s 15s/step - loss: 2.4541 - accuracy: 0.9836 - val_loss: 32.5367 - val_accuracy: 0.8984\n",
            "Epoch 37/50\n",
            "12/12 [==============================] - 165s 14s/step - loss: 0.6557 - accuracy: 0.9945 - val_loss: 30.1833 - val_accuracy: 0.8984\n",
            "Epoch 38/50\n",
            "12/12 [==============================] - 165s 14s/step - loss: 0.1045 - accuracy: 0.9918 - val_loss: 30.6744 - val_accuracy: 0.9062\n",
            "Epoch 39/50\n",
            "12/12 [==============================] - 162s 14s/step - loss: 0.4875 - accuracy: 0.9945 - val_loss: 30.7755 - val_accuracy: 0.8984\n",
            "Epoch 40/50\n",
            "12/12 [==============================] - 163s 14s/step - loss: 0.0275 - accuracy: 0.9973 - val_loss: 30.3328 - val_accuracy: 0.8906\n",
            "Epoch 41/50\n",
            "12/12 [==============================] - 162s 14s/step - loss: 1.4318 - accuracy: 0.9890 - val_loss: 30.2615 - val_accuracy: 0.8906\n",
            "Epoch 42/50\n",
            "12/12 [==============================] - 163s 14s/step - loss: 1.6125 - accuracy: 0.9781 - val_loss: 33.0819 - val_accuracy: 0.8750\n",
            "Epoch 43/50\n",
            "12/12 [==============================] - 165s 14s/step - loss: 0.0000e+00 - accuracy: 1.0000 - val_loss: 33.6939 - val_accuracy: 0.8828\n",
            "Epoch 44/50\n",
            "12/12 [==============================] - 163s 14s/step - loss: 0.9473 - accuracy: 0.9918 - val_loss: 34.4091 - val_accuracy: 0.8750\n",
            "Epoch 45/50\n",
            "12/12 [==============================] - 163s 14s/step - loss: 0.0229 - accuracy: 0.9973 - val_loss: 42.1654 - val_accuracy: 0.8828\n",
            "Epoch 46/50\n",
            "12/12 [==============================] - 163s 14s/step - loss: 0.7392 - accuracy: 0.9890 - val_loss: 46.5177 - val_accuracy: 0.8750\n",
            "Epoch 47/50\n",
            "12/12 [==============================] - 164s 14s/step - loss: 0.8601 - accuracy: 0.9918 - val_loss: 43.9370 - val_accuracy: 0.8750\n",
            "Epoch 48/50\n",
            "12/12 [==============================] - 162s 14s/step - loss: 0.7248 - accuracy: 0.9863 - val_loss: 28.8777 - val_accuracy: 0.8984\n",
            "Epoch 49/50\n",
            "12/12 [==============================] - 163s 14s/step - loss: 1.1715 - accuracy: 0.9836 - val_loss: 38.7665 - val_accuracy: 0.8906\n",
            "Epoch 50/50\n",
            "12/12 [==============================] - 162s 14s/step - loss: 0.6593 - accuracy: 0.9918 - val_loss: 31.3541 - val_accuracy: 0.8984\n"
          ]
        }
      ]
    },
    {
      "cell_type": "code",
      "source": [
        "test_model = keras.models.load_model(\"feature_extraction_with_data_augmentation.keras\")\n",
        "test_loss, test_acc = test_model.evaluate(test_dataset)\n",
        "print(f\"Test accuracy: {test_acc:.3f}\")"
      ],
      "metadata": {
        "colab": {
          "base_uri": "https://localhost:8080/"
        },
        "id": "tNFRPayH1kvm",
        "outputId": "f107256d-c278-4d01-8565-a7fe4b5e9c3b"
      },
      "execution_count": 32,
      "outputs": [
        {
          "output_type": "stream",
          "name": "stderr",
          "text": [
            "/usr/local/lib/python3.7/dist-packages/tensorflow/python/util/dispatch.py:1082: UserWarning: \"`sparse_categorical_crossentropy` received `from_logits=True`, but the `output` argument was produced by a sigmoid or softmax activation and thus does not represent logits. Was this intended?\"\n",
            "  return dispatch_target(*args, **kwargs)\n"
          ]
        },
        {
          "output_type": "stream",
          "name": "stdout",
          "text": [
            "4/4 [==============================] - 42s 10s/step - loss: 9.7341 - accuracy: 0.9350\n",
            "Test accuracy: 0.935\n"
          ]
        }
      ]
    },
    {
      "cell_type": "code",
      "source": [
        "acc = history.history[\"accuracy\"]\n",
        "val_acc = history.history[\"val_accuracy\"]\n",
        "loss = history.history[\"loss\"]\n",
        "val_loss = history.history[\"val_loss\"]\n",
        "epochs = range(1,len(acc)+1)\n",
        "plt.plot(epochs, acc, \"bo\", label=\"Training accuracy\")\n",
        "plt.plot(epochs, val_acc, \"b\", label= \"Validation accuracy\")\n",
        "plt.title(\"Training and Validation accuracy\")\n",
        "plt.legend()\n",
        "plt.figure()\n",
        "plt.plot(epochs, loss, \"bo\", label= \"Training Loss\")\n",
        "plt.plot(epochs, val_loss, \"b\", label= \"Validation Loss\")\n",
        "plt.title(\"Training and validation Loss\")\n",
        "plt.legend()\n",
        "plt.show()"
      ],
      "metadata": {
        "colab": {
          "base_uri": "https://localhost:8080/",
          "height": 545
        },
        "id": "N-onMPpDtNIe",
        "outputId": "ae33e2e1-4935-44f2-8480-0f7c695a8cbc"
      },
      "execution_count": 33,
      "outputs": [
        {
          "output_type": "display_data",
          "data": {
            "text/plain": [
              "<Figure size 432x288 with 1 Axes>"
            ],
            "image/png": "[encoded data removed]"
          },
          "metadata": {
            "needs_background": "light"
          }
        },
        {
          "output_type": "display_data",
          "data": {
            "text/plain": [
              "<Figure size 432x288 with 1 Axes>"
            ],
            "image/png": "[encoded data removed]"
          },
          "metadata": {
            "needs_background": "light"
          }
        }
      ]
    },
    {
      "cell_type": "markdown",
      "source": [
        "**Implementación del modelo pre-entrenado con *Fine Tunning***\n",
        "\n",
        "\n",
        "---\n",
        "\n",
        " \n"
      ],
      "metadata": {
        "id": "_YGMBnuBv4Y2"
      }
    },
    {
      "cell_type": "code",
      "source": [
        " conv_base.trainable = True\n",
        " for layer in conv_base.layers[:-4]:\n",
        "   layer.trainable = False"
      ],
      "metadata": {
        "id": "n-Vue1PYwAAX"
      },
      "execution_count": 34,
      "outputs": []
    },
    {
      "cell_type": "code",
      "source": [
        "model.compile(loss = tf.keras.losses.SparseCategoricalCrossentropy(from_logits=True), optimizer=keras.optimizers.RMSprop(learning_rate=1e-5),metrics=[\"accuracy\"]  )\n",
        "callbacks=[keras.callbacks.ModelCheckpoint(filepath = \"fine_tuning.keras\",save_best_only=True, monitor = \"val_loss\")]\n",
        "history= model.fit(train_dataset, epochs = 30 , validation_data = validation_dataset, callbacks = callbacks)"
      ],
      "metadata": {
        "colab": {
          "base_uri": "https://localhost:8080/"
        },
        "id": "FabYPcdzu9I_",
        "outputId": "ef296406-fa41-44c5-f540-7d2938eab810"
      },
      "execution_count": 39,
      "outputs": [
        {
          "output_type": "stream",
          "name": "stdout",
          "text": [
            "Epoch 1/30\n"
          ]
        },
        {
          "output_type": "stream",
          "name": "stderr",
          "text": [
            "/usr/local/lib/python3.7/dist-packages/tensorflow/python/util/dispatch.py:1082: UserWarning: \"`sparse_categorical_crossentropy` received `from_logits=True`, but the `output` argument was produced by a sigmoid or softmax activation and thus does not represent logits. Was this intended?\"\n",
            "  return dispatch_target(*args, **kwargs)\n"
          ]
        },
        {
          "output_type": "stream",
          "name": "stdout",
          "text": [
            "12/12 [==============================] - 190s 16s/step - loss: 1.1151 - accuracy: 0.9890 - val_loss: 34.8982 - val_accuracy: 0.8906\n",
            "Epoch 2/30\n",
            "12/12 [==============================] - 188s 16s/step - loss: 0.1264 - accuracy: 0.9945 - val_loss: 38.9835 - val_accuracy: 0.8672\n",
            "Epoch 3/30\n",
            "12/12 [==============================] - 192s 16s/step - loss: 0.2000 - accuracy: 0.9945 - val_loss: 35.1356 - val_accuracy: 0.8906\n",
            "Epoch 4/30\n",
            "12/12 [==============================] - 190s 16s/step - loss: 0.0930 - accuracy: 0.9945 - val_loss: 32.0225 - val_accuracy: 0.8984\n",
            "Epoch 5/30\n",
            "12/12 [==============================] - 189s 16s/step - loss: 0.2737 - accuracy: 0.9918 - val_loss: 29.9293 - val_accuracy: 0.8984\n",
            "Epoch 6/30\n",
            "12/12 [==============================] - 192s 16s/step - loss: 0.2398 - accuracy: 0.9945 - val_loss: 31.0241 - val_accuracy: 0.8984\n",
            "Epoch 7/30\n",
            "12/12 [==============================] - 189s 16s/step - loss: 0.0224 - accuracy: 0.9973 - val_loss: 32.6169 - val_accuracy: 0.8906\n",
            "Epoch 8/30\n",
            "12/12 [==============================] - 189s 16s/step - loss: 9.9432e-05 - accuracy: 1.0000 - val_loss: 31.8379 - val_accuracy: 0.8906\n",
            "Epoch 9/30\n",
            "12/12 [==============================] - 190s 16s/step - loss: 0.2657 - accuracy: 0.9945 - val_loss: 35.2360 - val_accuracy: 0.8906\n",
            "Epoch 10/30\n",
            "12/12 [==============================] - 189s 16s/step - loss: 0.0000e+00 - accuracy: 1.0000 - val_loss: 35.2360 - val_accuracy: 0.8906\n",
            "Epoch 11/30\n",
            "12/12 [==============================] - 190s 16s/step - loss: 0.2617 - accuracy: 0.9945 - val_loss: 31.9145 - val_accuracy: 0.8984\n",
            "Epoch 12/30\n",
            "12/12 [==============================] - 189s 16s/step - loss: 0.4030 - accuracy: 0.9890 - val_loss: 28.2652 - val_accuracy: 0.8984\n",
            "Epoch 13/30\n",
            "12/12 [==============================] - 193s 16s/step - loss: 0.6485 - accuracy: 0.9945 - val_loss: 29.0027 - val_accuracy: 0.9062\n",
            "Epoch 14/30\n",
            "12/12 [==============================] - 194s 16s/step - loss: 0.4392 - accuracy: 0.9918 - val_loss: 32.5055 - val_accuracy: 0.8984\n",
            "Epoch 15/30\n",
            "12/12 [==============================] - 191s 16s/step - loss: 0.4308 - accuracy: 0.9973 - val_loss: 33.3403 - val_accuracy: 0.9141\n",
            "Epoch 16/30\n",
            "12/12 [==============================] - 192s 16s/step - loss: 0.1153 - accuracy: 0.9973 - val_loss: 32.3937 - val_accuracy: 0.9141\n",
            "Epoch 17/30\n",
            "12/12 [==============================] - 194s 16s/step - loss: 0.2068 - accuracy: 0.9945 - val_loss: 26.1526 - val_accuracy: 0.9062\n",
            "Epoch 18/30\n",
            "12/12 [==============================] - 195s 16s/step - loss: 0.2396 - accuracy: 0.9973 - val_loss: 29.6665 - val_accuracy: 0.8984\n",
            "Epoch 19/30\n",
            "12/12 [==============================] - 197s 16s/step - loss: 0.1702 - accuracy: 0.9973 - val_loss: 28.7890 - val_accuracy: 0.9062\n",
            "Epoch 20/30\n",
            "12/12 [==============================] - 224s 19s/step - loss: 0.1832 - accuracy: 0.9945 - val_loss: 35.0926 - val_accuracy: 0.8984\n",
            "Epoch 21/30\n",
            "12/12 [==============================] - 203s 17s/step - loss: 0.2390 - accuracy: 0.9973 - val_loss: 34.4335 - val_accuracy: 0.8984\n",
            "Epoch 22/30\n",
            "12/12 [==============================] - 210s 18s/step - loss: 0.3126 - accuracy: 0.9973 - val_loss: 29.4421 - val_accuracy: 0.8984\n",
            "Epoch 23/30\n",
            "12/12 [==============================] - 202s 17s/step - loss: 0.5376 - accuracy: 0.9918 - val_loss: 25.6080 - val_accuracy: 0.9219\n",
            "Epoch 24/30\n",
            "12/12 [==============================] - 188s 16s/step - loss: 0.0000e+00 - accuracy: 1.0000 - val_loss: 25.6080 - val_accuracy: 0.9219\n",
            "Epoch 25/30\n",
            "12/12 [==============================] - 189s 16s/step - loss: 0.2186 - accuracy: 0.9973 - val_loss: 23.6956 - val_accuracy: 0.9062\n",
            "Epoch 26/30\n",
            "12/12 [==============================] - 191s 16s/step - loss: 0.1887 - accuracy: 0.9973 - val_loss: 20.7190 - val_accuracy: 0.8984\n",
            "Epoch 27/30\n",
            "12/12 [==============================] - 189s 16s/step - loss: 0.1485 - accuracy: 0.9945 - val_loss: 29.3867 - val_accuracy: 0.8984\n",
            "Epoch 28/30\n",
            "12/12 [==============================] - 189s 16s/step - loss: 0.4999 - accuracy: 0.9945 - val_loss: 29.4745 - val_accuracy: 0.9062\n",
            "Epoch 29/30\n",
            "12/12 [==============================] - 192s 16s/step - loss: 0.0021 - accuracy: 0.9973 - val_loss: 32.8687 - val_accuracy: 0.8984\n",
            "Epoch 30/30\n",
            "12/12 [==============================] - 188s 16s/step - loss: 0.0665 - accuracy: 0.9973 - val_loss: 35.0663 - val_accuracy: 0.8984\n"
          ]
        }
      ]
    },
    {
      "cell_type": "code",
      "source": [
        "model = keras.models.load_model(\"fine_tuning.keras\")\n",
        "test_loss, test_acc = model.evaluate(test_dataset)\n",
        "print(f\"Test accuracy: {test_acc:.3f}\")"
      ],
      "metadata": {
        "colab": {
          "base_uri": "https://localhost:8080/"
        },
        "id": "BWdgeYGTw2sP",
        "outputId": "9749f893-5d99-4492-df03-270911d416bd"
      },
      "execution_count": 40,
      "outputs": [
        {
          "output_type": "stream",
          "name": "stderr",
          "text": [
            "/usr/local/lib/python3.7/dist-packages/tensorflow/python/util/dispatch.py:1082: UserWarning: \"`sparse_categorical_crossentropy` received `from_logits=True`, but the `output` argument was produced by a sigmoid or softmax activation and thus does not represent logits. Was this intended?\"\n",
            "  return dispatch_target(*args, **kwargs)\n"
          ]
        },
        {
          "output_type": "stream",
          "name": "stdout",
          "text": [
            "4/4 [==============================] - 41s 10s/step - loss: 10.9087 - accuracy: 0.9268\n",
            "Test accuracy: 0.927\n"
          ]
        }
      ]
    },
    {
      "cell_type": "code",
      "source": [
        "acc = history.history[\"accuracy\"]\n",
        "val_acc = history.history[\"val_accuracy\"]\n",
        "loss = history.history[\"loss\"]\n",
        "val_loss = history.history[\"val_loss\"]\n",
        "epochs = range(1,len(acc)+1)\n",
        "plt.plot(epochs, acc, \"bo\", label=\"Training accuracy\")\n",
        "plt.plot(epochs, val_acc, \"b\", label= \"Validation accuracy\")\n",
        "plt.title(\"Training and Validation accuracy\")\n",
        "plt.legend()\n",
        "plt.figure()\n",
        "plt.plot(epochs, loss, \"bo\", label= \"Training Loss\")\n",
        "plt.plot(epochs, val_loss, \"b\", label= \"Validation Loss\")\n",
        "plt.title(\"Training and validation Loss\")\n",
        "plt.legend()\n",
        "plt.show()"
      ],
      "metadata": {
        "colab": {
          "base_uri": "https://localhost:8080/",
          "height": 545
        },
        "id": "ZyWbfT2iLS8Q",
        "outputId": "d0b45e6b-1d26-44e5-9a49-92e4e5cb3e9e"
      },
      "execution_count": 41,
      "outputs": [
        {
          "output_type": "display_data",
          "data": {
            "text/plain": [
              "<Figure size 432x288 with 1 Axes>"
            ],
            "image/png": "[encoded data removed]"
          },
          "metadata": {
            "needs_background": "light"
          }
        },
        {
          "output_type": "display_data",
          "data": {
            "text/plain": [
              "<Figure size 432x288 with 1 Axes>"
            ],
            "image/png": "[encoded data removed]"
          },
          "metadata": {
            "needs_background": "light"
          }
        }
      ]
    },
    {
      "cell_type": "code",
      "source": [
        ""
      ],
      "metadata": {
        "id": "qJpvXTXILnW5"
      },
      "execution_count": null,
      "outputs": []
    }
  ]
}